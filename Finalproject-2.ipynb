{
  "nbformat": 4,
  "nbformat_minor": 0,
  "metadata": {
    "colab": {
      "name": "Finalproject",
      "provenance": [],
      "collapsed_sections": []
    },
    "kernelspec": {
      "name": "python3",
      "display_name": "Python 3"
    }
  },
  "cells": [
    {
      "cell_type": "markdown",
      "metadata": {
        "id": "0o5G0LIeDzWi",
        "colab_type": "text"
      },
      "source": [
        "**Chosen Project:** *Spreadsheet Analysis* - Option 3\n",
        "\n",
        "**Instructions:**  \n",
        "In this project you'll use Python to do very basic data analysis on a spreadsheet. The standard project will use csv file that contains fake sales data. After completing the required tasks you are free to change the csv file that you use.\n",
        "\n",
        "**MoSCoW** of the Project:\n",
        "- Must read the data from the spreadsheet\n",
        "- Must collect all of the sales from each month into a single list\n",
        "- Must output the total sales across all months\n",
        "- Should ouput a summary of the results to a spreadsheet\n",
        "- Should calculate the monthly changes in percentages\n",
        "- Should calculate the average of sales\n",
        "- Could calculate the highest and lowest sales months\n",
        "- Could use an extra data source from a different spreadsheet\n",
        "- Could merge a different spreadsheet in order to operate a comparison"
      ]
    },
    {
      "cell_type": "code",
      "metadata": {
        "id": "t23f-4_2ttqP",
        "colab_type": "code",
        "colab": {
          "base_uri": "https://localhost:8080/",
          "height": 204
        },
        "outputId": "21e247cc-16f1-4a10-b869-677504ebdc00"
      },
      "source": [
        "#Import Ressources Needed\n",
        "import pandas as pd\n",
        "import numpy as np\n",
        "import seaborn as sns\n",
        "import matplotlib.pyplot as plt\n",
        "\n",
        "df = pd.read_csv('sales.csv')\n",
        "df.head()\n"
      ],
      "execution_count": 6,
      "outputs": [
        {
          "output_type": "execute_result",
          "data": {
            "text/html": [
              "<div>\n",
              "<style scoped>\n",
              "    .dataframe tbody tr th:only-of-type {\n",
              "        vertical-align: middle;\n",
              "    }\n",
              "\n",
              "    .dataframe tbody tr th {\n",
              "        vertical-align: top;\n",
              "    }\n",
              "\n",
              "    .dataframe thead th {\n",
              "        text-align: right;\n",
              "    }\n",
              "</style>\n",
              "<table border=\"1\" class=\"dataframe\">\n",
              "  <thead>\n",
              "    <tr style=\"text-align: right;\">\n",
              "      <th></th>\n",
              "      <th>year</th>\n",
              "      <th>month</th>\n",
              "      <th>sales</th>\n",
              "      <th>expenditure</th>\n",
              "    </tr>\n",
              "  </thead>\n",
              "  <tbody>\n",
              "    <tr>\n",
              "      <th>0</th>\n",
              "      <td>2018</td>\n",
              "      <td>jan</td>\n",
              "      <td>6226</td>\n",
              "      <td>3808</td>\n",
              "    </tr>\n",
              "    <tr>\n",
              "      <th>1</th>\n",
              "      <td>2018</td>\n",
              "      <td>feb</td>\n",
              "      <td>1521</td>\n",
              "      <td>3373</td>\n",
              "    </tr>\n",
              "    <tr>\n",
              "      <th>2</th>\n",
              "      <td>2018</td>\n",
              "      <td>mar</td>\n",
              "      <td>1842</td>\n",
              "      <td>3965</td>\n",
              "    </tr>\n",
              "    <tr>\n",
              "      <th>3</th>\n",
              "      <td>2018</td>\n",
              "      <td>apr</td>\n",
              "      <td>2051</td>\n",
              "      <td>1098</td>\n",
              "    </tr>\n",
              "    <tr>\n",
              "      <th>4</th>\n",
              "      <td>2018</td>\n",
              "      <td>may</td>\n",
              "      <td>1728</td>\n",
              "      <td>3046</td>\n",
              "    </tr>\n",
              "  </tbody>\n",
              "</table>\n",
              "</div>"
            ],
            "text/plain": [
              "   year month  sales  expenditure\n",
              "0  2018   jan   6226         3808\n",
              "1  2018   feb   1521         3373\n",
              "2  2018   mar   1842         3965\n",
              "3  2018   apr   2051         1098\n",
              "4  2018   may   1728         3046"
            ]
          },
          "metadata": {
            "tags": []
          },
          "execution_count": 6
        }
      ]
    },
    {
      "cell_type": "code",
      "metadata": {
        "id": "q3emyEz8x_iU",
        "colab_type": "code",
        "colab": {
          "base_uri": "https://localhost:8080/",
          "height": 238
        },
        "outputId": "309f2908-aadd-4186-e749-c3a2a646a7cd"
      },
      "source": [
        "#Showcase all sales in 2018\n",
        "df['sales']"
      ],
      "execution_count": 7,
      "outputs": [
        {
          "output_type": "execute_result",
          "data": {
            "text/plain": [
              "0     6226\n",
              "1     1521\n",
              "2     1842\n",
              "3     2051\n",
              "4     1728\n",
              "5     2138\n",
              "6     7479\n",
              "7     4434\n",
              "8     3615\n",
              "9     5472\n",
              "10    7224\n",
              "11    1812\n",
              "Name: sales, dtype: int64"
            ]
          },
          "metadata": {
            "tags": []
          },
          "execution_count": 7
        }
      ]
    },
    {
      "cell_type": "code",
      "metadata": {
        "id": "AIWctjYUx5Db",
        "colab_type": "code",
        "colab": {
          "base_uri": "https://localhost:8080/",
          "height": 34
        },
        "outputId": "1a83b702-0da5-4a88-fb29-8fef471f7b5c"
      },
      "source": [
        "#Calculate the sum of sales in 2018\n",
        "sales_list = df['sales'].tolist()\n",
        "sales_list\n",
        "df['sales'].sum()"
      ],
      "execution_count": null,
      "outputs": [
        {
          "output_type": "execute_result",
          "data": {
            "text/plain": [
              "45542"
            ]
          },
          "metadata": {
            "tags": []
          },
          "execution_count": 136
        }
      ]
    },
    {
      "cell_type": "code",
      "metadata": {
        "id": "Px9OIg9v22Z0",
        "colab_type": "code",
        "colab": {}
      },
      "source": [
        "#convert to excel\n",
        "df.to_excel('sales_excel.xlsx')"
      ],
      "execution_count": null,
      "outputs": []
    },
    {
      "cell_type": "code",
      "metadata": {
        "id": "-y26k5LWyNkE",
        "colab_type": "code",
        "colab": {
          "base_uri": "https://localhost:8080/",
          "height": 34
        },
        "outputId": "7bf1c8a5-01f1-4e04-9e95-54745f18d67c"
      },
      "source": [
        "#Calculate the mean\n",
        "df['sales'].mean()"
      ],
      "execution_count": null,
      "outputs": [
        {
          "output_type": "execute_result",
          "data": {
            "text/plain": [
              "3795.1666666666665"
            ]
          },
          "metadata": {
            "tags": []
          },
          "execution_count": 138
        }
      ]
    },
    {
      "cell_type": "code",
      "metadata": {
        "id": "JPmBQ84kyP8-",
        "colab_type": "code",
        "colab": {
          "base_uri": "https://localhost:8080/",
          "height": 68
        },
        "outputId": "17df8ac5-2b53-40b0-9c62-d15112af2fb1"
      },
      "source": [
        "#Calculate the maximum sales in 2018\n",
        "df[['month', 'sales']].max()"
      ],
      "execution_count": null,
      "outputs": [
        {
          "output_type": "execute_result",
          "data": {
            "text/plain": [
              "month     sep\n",
              "sales    7479\n",
              "dtype: object"
            ]
          },
          "metadata": {
            "tags": []
          },
          "execution_count": 140
        }
      ]
    },
    {
      "cell_type": "code",
      "metadata": {
        "id": "LSJ-9BaiyUQn",
        "colab_type": "code",
        "colab": {
          "base_uri": "https://localhost:8080/",
          "height": 68
        },
        "outputId": "da8906f6-e2eb-4079-848f-10ef3db5b9af"
      },
      "source": [
        "#Calculate the minimum sales in 2018\n",
        "df[['month', 'sales']].min()"
      ],
      "execution_count": null,
      "outputs": [
        {
          "output_type": "execute_result",
          "data": {
            "text/plain": [
              "month     apr\n",
              "sales    1521\n",
              "dtype: object"
            ]
          },
          "metadata": {
            "tags": []
          },
          "execution_count": 141
        }
      ]
    },
    {
      "cell_type": "code",
      "metadata": {
        "id": "j6j6RHb1yWXA",
        "colab_type": "code",
        "colab": {
          "base_uri": "https://localhost:8080/",
          "height": 238
        },
        "outputId": "4171171c-e91d-4737-f2e3-b289c90de245"
      },
      "source": [
        "#Calculate the percentage of change in sales\n",
        "df['percent_change'] = df['sales'].pct_change()\n",
        "df['percent_change']"
      ],
      "execution_count": null,
      "outputs": [
        {
          "output_type": "execute_result",
          "data": {
            "text/plain": [
              "0          NaN\n",
              "1    -0.755702\n",
              "2     0.211045\n",
              "3     0.113464\n",
              "4    -0.157484\n",
              "5     0.237269\n",
              "6     2.498129\n",
              "7    -0.407140\n",
              "8    -0.184709\n",
              "9     0.513693\n",
              "10    0.320175\n",
              "11   -0.749169\n",
              "Name: percent_change, dtype: float64"
            ]
          },
          "metadata": {
            "tags": []
          },
          "execution_count": 142
        }
      ]
    },
    {
      "cell_type": "code",
      "metadata": {
        "id": "YHSe0ML8yeOa",
        "colab_type": "code",
        "colab": {
          "base_uri": "https://localhost:8080/",
          "height": 296
        },
        "outputId": "2abdc4cc-0b95-4a9c-e538-44bd9acafbbe"
      },
      "source": [
        "#Showcasing the month per sales ratio on a graph\n",
        "sns.barplot(x='month', y='sales', data=df, palette='viridis')"
      ],
      "execution_count": null,
      "outputs": [
        {
          "output_type": "execute_result",
          "data": {
            "text/plain": [
              "<matplotlib.axes._subplots.AxesSubplot at 0x7f7d11f70a20>"
            ]
          },
          "metadata": {
            "tags": []
          },
          "execution_count": 143
        },
        {
          "output_type": "display_data",
          "data": {
            "image/png": "[encoded data removed]",
            "text/plain": [
              "<Figure size 432x288 with 1 Axes>"
            ]
          },
          "metadata": {
            "tags": [],
            "needs_background": "light"
          }
        }
      ]
    },
    {
      "cell_type": "code",
      "metadata": {
        "id": "a_ZZIcn30i2b",
        "colab_type": "code",
        "colab": {
          "base_uri": "https://localhost:8080/",
          "height": 221
        },
        "outputId": "641bde30-191b-44af-c446-ebf88d87e08c"
      },
      "source": [
        "#create new csv file for 2019\n",
        "import csv\n",
        "\n",
        "with open('sales2019.csv', 'w', newline='') as csvfile:\n",
        "    fieldnames = ['year', 'month', 'sales', 'expenditure','weather']\n",
        "    writer = csv.DictWriter(csvfile, fieldnames=fieldnames)\n",
        "\n",
        "#We have rated the weather based on a system of Ok(=1), Good(=2), Bad(=0). We will use this to compare the sales compared to weather conditions. \n",
        "\n",
        "data = [\n",
        "{'year': '2019','month': 'Jan', 'sales': '6543', 'expenditure': '2345', 'weather': '1'},\n",
        "{'year': '2019','month': 'Feb', 'sales': '9876', 'expenditure': '1129', 'weather': '2'},\n",
        "{'year': '2019','month': 'Mar', 'sales': '7834', 'expenditure': '6733', 'weather': '2'},\n",
        "{'year': '2019','month': 'Apr', 'sales': '3452', 'expenditure': '4321', 'weather': '0'},\n",
        "{'year': '2019','month': 'May', 'sales': '1674', 'expenditure': '2123', 'weather': '0'},\n",
        "{'year': '2019','month': 'Jun', 'sales': '9084', 'expenditure': '4532', 'weather': '2'},\n",
        "{'year': '2019','month': 'Jul', 'sales': '6758', 'expenditure': '2222', 'weather': '1'},\n",
        "{'year': '2019','month': 'Aug', 'sales': '1232', 'expenditure': '2345', 'weather': '0'},\n",
        "{'year': '2019','month': 'Sep', 'sales': '9988', 'expenditure': '1456', 'weather': '2'},\n",
        "{'year': '2019','month': 'Oct', 'sales': '7543', 'expenditure': '3321', 'weather': '2'},\n",
        "{'year': '2019','month': 'Nov', 'sales': '6788', 'expenditure': '3452', 'weather': '1'},\n",
        "{'year': '2019','month': 'Dec', 'sales': '6532', 'expenditure': '2147', 'weather': '1'}\n",
        "]\n",
        "\n",
        "with open('sales2019.csv', 'w+') as csv_file:\n",
        "    spreadsheet = csv.DictWriter(csv_file, fieldnames= fieldnames)\n",
        "    spreadsheet.writeheader()\n",
        "    spreadsheet.writerows(data)\n",
        "\n",
        "print('sales2019.csv')\n",
        "\n",
        "df = pd.read_csv('sales2019.csv')\n",
        "df.head()"
      ],
      "execution_count": 8,
      "outputs": [
        {
          "output_type": "stream",
          "text": [
            "sales2019.csv\n"
          ],
          "name": "stdout"
        },
        {
          "output_type": "execute_result",
          "data": {
            "text/html": [
              "<div>\n",
              "<style scoped>\n",
              "    .dataframe tbody tr th:only-of-type {\n",
              "        vertical-align: middle;\n",
              "    }\n",
              "\n",
              "    .dataframe tbody tr th {\n",
              "        vertical-align: top;\n",
              "    }\n",
              "\n",
              "    .dataframe thead th {\n",
              "        text-align: right;\n",
              "    }\n",
              "</style>\n",
              "<table border=\"1\" class=\"dataframe\">\n",
              "  <thead>\n",
              "    <tr style=\"text-align: right;\">\n",
              "      <th></th>\n",
              "      <th>year</th>\n",
              "      <th>month</th>\n",
              "      <th>sales</th>\n",
              "      <th>expenditure</th>\n",
              "      <th>weather</th>\n",
              "    </tr>\n",
              "  </thead>\n",
              "  <tbody>\n",
              "    <tr>\n",
              "      <th>0</th>\n",
              "      <td>2019</td>\n",
              "      <td>Jan</td>\n",
              "      <td>6543</td>\n",
              "      <td>2345</td>\n",
              "      <td>1</td>\n",
              "    </tr>\n",
              "    <tr>\n",
              "      <th>1</th>\n",
              "      <td>2019</td>\n",
              "      <td>Feb</td>\n",
              "      <td>9876</td>\n",
              "      <td>1129</td>\n",
              "      <td>2</td>\n",
              "    </tr>\n",
              "    <tr>\n",
              "      <th>2</th>\n",
              "      <td>2019</td>\n",
              "      <td>Mar</td>\n",
              "      <td>7834</td>\n",
              "      <td>6733</td>\n",
              "      <td>2</td>\n",
              "    </tr>\n",
              "    <tr>\n",
              "      <th>3</th>\n",
              "      <td>2019</td>\n",
              "      <td>Apr</td>\n",
              "      <td>3452</td>\n",
              "      <td>4321</td>\n",
              "      <td>0</td>\n",
              "    </tr>\n",
              "    <tr>\n",
              "      <th>4</th>\n",
              "      <td>2019</td>\n",
              "      <td>May</td>\n",
              "      <td>1674</td>\n",
              "      <td>2123</td>\n",
              "      <td>0</td>\n",
              "    </tr>\n",
              "  </tbody>\n",
              "</table>\n",
              "</div>"
            ],
            "text/plain": [
              "   year month  sales  expenditure  weather\n",
              "0  2019   Jan   6543         2345        1\n",
              "1  2019   Feb   9876         1129        2\n",
              "2  2019   Mar   7834         6733        2\n",
              "3  2019   Apr   3452         4321        0\n",
              "4  2019   May   1674         2123        0"
            ]
          },
          "metadata": {
            "tags": []
          },
          "execution_count": 8
        }
      ]
    },
    {
      "cell_type": "code",
      "metadata": {
        "id": "kuvsus639mZi",
        "colab_type": "code",
        "colab": {
          "base_uri": "https://localhost:8080/",
          "height": 238
        },
        "outputId": "f48c0724-c866-4a48-eaf7-92d73d037d3d"
      },
      "source": [
        "#Printing out the sales results of the year\n",
        "df['sales']"
      ],
      "execution_count": null,
      "outputs": [
        {
          "output_type": "execute_result",
          "data": {
            "text/plain": [
              "0     6543\n",
              "1     9876\n",
              "2     7834\n",
              "3     3452\n",
              "4     1674\n",
              "5     9084\n",
              "6     6758\n",
              "7     1232\n",
              "8     9988\n",
              "9     7543\n",
              "10    6788\n",
              "11    6532\n",
              "Name: sales, dtype: int64"
            ]
          },
          "metadata": {
            "tags": []
          },
          "execution_count": 145
        }
      ]
    },
    {
      "cell_type": "code",
      "metadata": {
        "id": "3lZhu9Hf4k4R",
        "colab_type": "code",
        "colab": {
          "base_uri": "https://localhost:8080/",
          "height": 54
        },
        "outputId": "31cb329c-8272-45d8-981f-91cfcdcb0d93"
      },
      "source": [
        "#Opening the sales result in a line format instead of a table is also possible \n",
        "with open('sales2019.csv', 'r') as sales_csv:\n",
        "     spreadsheet = csv.DictReader(sales_csv)\n",
        "\n",
        "     sales = []\n",
        "\n",
        "     for row in spreadsheet:\n",
        "         sales_list = row['sales']\n",
        "         sales.append(sales_list)\n",
        "\n",
        "print('Sales from each month: {}'.format(sales))"
      ],
      "execution_count": 9,
      "outputs": [
        {
          "output_type": "stream",
          "text": [
            "Sales from each month: ['6543', '9876', '7834', '3452', '1674', '9084', '6758', '1232', '9988', '7543', '6788', '6532']\n"
          ],
          "name": "stdout"
        }
      ]
    },
    {
      "cell_type": "code",
      "metadata": {
        "id": "9oCmafPy9vXe",
        "colab_type": "code",
        "colab": {
          "base_uri": "https://localhost:8080/",
          "height": 34
        },
        "outputId": "071393e8-3540-45fc-8929-bd3ba2413837"
      },
      "source": [
        "#Calculate the sum of sales in 2019\n",
        "sales_list = df['sales'].tolist()\n",
        "df['sales'].sum()"
      ],
      "execution_count": null,
      "outputs": [
        {
          "output_type": "execute_result",
          "data": {
            "text/plain": [
              "77304"
            ]
          },
          "metadata": {
            "tags": []
          },
          "execution_count": 146
        }
      ]
    },
    {
      "cell_type": "code",
      "metadata": {
        "id": "R_LKx1KV6fja",
        "colab_type": "code",
        "colab": {
          "base_uri": "https://localhost:8080/",
          "height": 34
        },
        "outputId": "9c6c9f40-b0b2-4d30-ff3e-573f6cd11860"
      },
      "source": [
        "#Calculate the sales during the winter 2019\n",
        "with open('sales2019.csv', 'r') as sales2019_csv:\n",
        "     spreadsheet = csv.DictReader(sales2019_csv)\n",
        "\n",
        "     winter_sales = []\n",
        "\n",
        "     for row in spreadsheet:\n",
        "         winter_months = row['sales']\n",
        "         winter_sales.append(summer_months)\n",
        "\n",
        "total_winter_sales = 0\n",
        "for winter_sale in winter_sales:\n",
        "     total_winter_sales = (int(winter_sales[11])) + (int(winter_sales[10])) + (int(winter_sales[9]))\n",
        "\n",
        "print('Total winter sales: {}'.format(total_winter_sales))"
      ],
      "execution_count": 13,
      "outputs": [
        {
          "output_type": "stream",
          "text": [
            "Total winter sales: 19596\n"
          ],
          "name": "stdout"
        }
      ]
    },
    {
      "cell_type": "code",
      "metadata": {
        "id": "NUYA7BKc6vDi",
        "colab_type": "code",
        "colab": {
          "base_uri": "https://localhost:8080/",
          "height": 34
        },
        "outputId": "fb2ec2c8-ca00-49ab-cdf2-9f6d1dc9ab5a"
      },
      "source": [
        "#Calculate the sales during the summer 2019\n",
        "with open('sales2019.csv', 'r') as sales2019_csv:\n",
        "     spreadsheet = csv.DictReader(sales2019_csv)\n",
        "\n",
        "     summer_sales = []\n",
        "\n",
        "     for row in spreadsheet:\n",
        "         summer_months = row['sales']\n",
        "         summer_sales.append(summer_months)\n",
        "\n",
        "total_summer_sales = 0\n",
        "for summer_sale in summer_sales:\n",
        "     total_summer_sales = (int(summer_sales[5])) + (int(summer_sales[6])) + (int(summer_sales[7]))\n",
        "\n",
        "print('Total summer sales: {}'.format(total_summer_sales))"
      ],
      "execution_count": 12,
      "outputs": [
        {
          "output_type": "stream",
          "text": [
            "Total summer sales: 17074\n"
          ],
          "name": "stdout"
        }
      ]
    },
    {
      "cell_type": "code",
      "metadata": {
        "id": "nafRrnfv97IR",
        "colab_type": "code",
        "colab": {}
      },
      "source": [
        "#convert to excel\n",
        "df.to_excel('sales2019_excel.xlsx')"
      ],
      "execution_count": null,
      "outputs": []
    },
    {
      "cell_type": "code",
      "metadata": {
        "id": "nWzdXBwf9_bI",
        "colab_type": "code",
        "colab": {
          "base_uri": "https://localhost:8080/",
          "height": 34
        },
        "outputId": "1258c564-f1a9-4964-cb29-6df6e0a1e2ac"
      },
      "source": [
        "#Calculate the mean\n",
        "df['sales'].mean()"
      ],
      "execution_count": null,
      "outputs": [
        {
          "output_type": "execute_result",
          "data": {
            "text/plain": [
              "6442.0"
            ]
          },
          "metadata": {
            "tags": []
          },
          "execution_count": 148
        }
      ]
    },
    {
      "cell_type": "code",
      "metadata": {
        "id": "WQgIlfAN-DXN",
        "colab_type": "code",
        "colab": {
          "base_uri": "https://localhost:8080/",
          "height": 68
        },
        "outputId": "7f665b51-c928-4789-a04e-2686c4ac49c1"
      },
      "source": [
        "#Calculate the maximum sales in 2019\n",
        "df[['month', 'sales']].max()"
      ],
      "execution_count": null,
      "outputs": [
        {
          "output_type": "execute_result",
          "data": {
            "text/plain": [
              "month     Sep\n",
              "sales    9988\n",
              "dtype: object"
            ]
          },
          "metadata": {
            "tags": []
          },
          "execution_count": 149
        }
      ]
    },
    {
      "cell_type": "code",
      "metadata": {
        "id": "00eNe7c7-Imm",
        "colab_type": "code",
        "colab": {
          "base_uri": "https://localhost:8080/",
          "height": 238
        },
        "outputId": "714fadfc-337f-4a76-b5aa-dcddced38774"
      },
      "source": [
        "#Calculate the percentage of change in sales\n",
        "df['percent_change'] = df['sales'].pct_change()\n",
        "df['percent_change']"
      ],
      "execution_count": null,
      "outputs": [
        {
          "output_type": "execute_result",
          "data": {
            "text/plain": [
              "0          NaN\n",
              "1     0.509399\n",
              "2    -0.206764\n",
              "3    -0.559357\n",
              "4    -0.515064\n",
              "5     4.426523\n",
              "6    -0.256055\n",
              "7    -0.817698\n",
              "8     7.107143\n",
              "9    -0.244794\n",
              "10   -0.100093\n",
              "11   -0.037714\n",
              "Name: percent_change, dtype: float64"
            ]
          },
          "metadata": {
            "tags": []
          },
          "execution_count": 150
        }
      ]
    },
    {
      "cell_type": "code",
      "metadata": {
        "id": "Jvj_6u3S7wu3",
        "colab_type": "code",
        "colab": {
          "base_uri": "https://localhost:8080/",
          "height": 119
        },
        "outputId": "e46b44b3-8185-459e-8e70-89067679c6c8"
      },
      "source": [
        "#Creating some user input in order to request the user to specificy his demands\n",
        "with open('sales2019.csv', 'r') as sales2019_csv:\n",
        "     spreadsheet = csv.DictReader(sales2019_csv)\n",
        "\n",
        "     maximum_sale = []\n",
        "     for row in spreadsheet:\n",
        "         find_sale_maximum = row['sales']\n",
        "         maximum_sale.append(find_sale_maximum)\n",
        "\n",
        "find_maximum_sale = max(maximum_sale)\n",
        "\n",
        "with open('sales2019.csv', 'r') as sales2019_csv:\n",
        "     spreadsheet = csv.DictReader(sales2019_csv)\n",
        "\n",
        "     minimum_sale = []\n",
        "     for row in spreadsheet:\n",
        "         find_sale_minimum = row['sales']\n",
        "         minimum_sale.append(find_sale_minimum)\n",
        "\n",
        "find_minimum_sale = min(minimum_sale)\n",
        "\n",
        "#User has the choice within 4 options: see the summer sales, winter sales, highest/lowest sales records\n",
        "\n",
        "while True:\n",
        "     print('To see the summer sales data, enter 1')\n",
        "     print('To see the sales winter data, enter 2')\n",
        "     print('To see the highest sales data, enter 3')\n",
        "     print('To see the lowest sales data, enter 4')\n",
        "\n",
        "     user_input = input('Choose between 1-4')\n",
        "\n",
        "     if user_input == '1':\n",
        "         print('The total of all sales data from summer 2019 is: {}'.format(total_summer_sales))\n",
        "         break\n",
        "     elif user_input == '2':\n",
        "         print('The total of all sales data from winter 2019 is: {}'.format(total_winter_sales))\n",
        "         break\n",
        "     elif user_input == '3':\n",
        "         print('The maximum amount of sales done in a month in 2019 was : {}'.format(find_maximum_sale))\n",
        "         break\n",
        "     elif user_input == '4':\n",
        "         print('The minimum amount of sales done in a month in 2019 was: {}'.format(find_minimum_sale))\n",
        "         break\n",
        "\n",
        "    \n"
      ],
      "execution_count": 48,
      "outputs": [
        {
          "output_type": "stream",
          "text": [
            "To see the summer sales data, enter 1\n",
            "To see the sales winter data, enter 2\n",
            "To see the highest sales data, enter 3\n",
            "To see the lowest sales data, enter 4\n",
            "Choose between 1-42\n",
            "The total of all sales data from winter 2019 is: 19596\n"
          ],
          "name": "stdout"
        }
      ]
    },
    {
      "cell_type": "code",
      "metadata": {
        "id": "LA5Kcuwr-M49",
        "colab_type": "code",
        "colab": {
          "base_uri": "https://localhost:8080/",
          "height": 296
        },
        "outputId": "a6c9e8de-ec29-4c0c-af3b-3553cfcfef23"
      },
      "source": [
        "#Showcasing the month per sales ratio on a graph\n",
        "sns.barplot(x='month', y='sales', data=df, palette='viridis')"
      ],
      "execution_count": null,
      "outputs": [
        {
          "output_type": "execute_result",
          "data": {
            "text/plain": [
              "<matplotlib.axes._subplots.AxesSubplot at 0x7f7d11eb9eb8>"
            ]
          },
          "metadata": {
            "tags": []
          },
          "execution_count": 151
        },
        {
          "output_type": "display_data",
          "data": {
            "image/png": "[encoded data removed]",
            "text/plain": [
              "<Figure size 432x288 with 1 Axes>"
            ]
          },
          "metadata": {
            "tags": [],
            "needs_background": "light"
          }
        }
      ]
    },
    {
      "cell_type": "code",
      "metadata": {
        "id": "PwFa0mie-fwd",
        "colab_type": "code",
        "colab": {
          "base_uri": "https://localhost:8080/",
          "height": 296
        },
        "outputId": "3d3d1c6d-88d0-4d29-ac17-df822f9c1abe"
      },
      "source": [
        "#Showcasing the month per weather ratio on a graph\n",
        "sns.barplot(x='month', y='weather', data=df, palette='viridis')"
      ],
      "execution_count": null,
      "outputs": [
        {
          "output_type": "execute_result",
          "data": {
            "text/plain": [
              "<matplotlib.axes._subplots.AxesSubplot at 0x7f7d11ddfef0>"
            ]
          },
          "metadata": {
            "tags": []
          },
          "execution_count": 152
        },
        {
          "output_type": "display_data",
          "data": {
            "image/png": "[encoded data removed]",
            "text/plain": [
              "<Figure size 432x288 with 1 Axes>"
            ]
          },
          "metadata": {
            "tags": [],
            "needs_background": "light"
          }
        }
      ]
    }
  ]
}